{
 "cells": [
  {
   "cell_type": "code",
   "execution_count": 4,
   "metadata": {},
   "outputs": [],
   "source": [
    "import numpy as np\n",
    "import matplotlib.pyplot as plt\n",
    "import os\n",
    "import pandas as pd\n",
    "import cv2 as cv\n",
    "import random\n",
    "import time\n",
    "\n",
    "from constants import *\n",
    "from visualisation import *\n",
    "from character_classes import *\n",
    "from build_dataset import *"
   ]
  },
  {
   "cell_type": "code",
   "execution_count": 2,
   "metadata": {},
   "outputs": [],
   "source": [
    "# print_square_info()\n",
    "# get_avg_variance()"
   ]
  },
  {
   "cell_type": "code",
   "execution_count": null,
   "metadata": {},
   "outputs": [
    {
     "name": "stdout",
     "output_type": "stream",
     "text": [
      "accepted ratio: 0.2315, successes: 926\n"
     ]
    }
   ],
   "source": [
    "if os.path.exists(positive_features_path):\n",
    "    positive_features = np.load(positive_features_path)\n",
    "    print('Loaded positive features')\n",
    "else:\n",
    "    print('building positive features')\n",
    "    positive_features = facial_detector.get_positive_descriptors()\n",
    "    np.save(positive_features_path, positive_features)\n",
    "    print('Am salvat descriptorii pentru exemplele pozitive in fisierul %s' % positive_features_path)\n"
   ]
  }
 ],
 "metadata": {
  "kernelspec": {
   "display_name": "Python 3",
   "language": "python",
   "name": "python3"
  },
  "language_info": {
   "codemirror_mode": {
    "name": "ipython",
    "version": 3
   },
   "file_extension": ".py",
   "mimetype": "text/x-python",
   "name": "python",
   "nbconvert_exporter": "python",
   "pygments_lexer": "ipython3",
   "version": "3.10.12"
  }
 },
 "nbformat": 4,
 "nbformat_minor": 2
}
