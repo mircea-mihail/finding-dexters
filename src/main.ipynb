{
 "cells": [
  {
   "cell_type": "code",
   "execution_count": 1,
   "metadata": {},
   "outputs": [],
   "source": [
    "import numpy as np\n",
    "import matplotlib.pyplot as plt\n",
    "import os\n",
    "import pandas as pd\n",
    "import cv2 as cv\n",
    "import random\n",
    "import time\n",
    "import shutil\n",
    "\n",
    "from constants import *\n",
    "from visualisation import *\n",
    "from character_classes import *\n",
    "from build_dataset import *\n",
    "from FacialDetector import *"
   ]
  },
  {
   "cell_type": "code",
   "execution_count": 2,
   "metadata": {},
   "outputs": [],
   "source": [
    "# print_square_info()\n",
    "# get_avg_variance()\n",
    "# build_all_square_positives()\n",
    "\n",
    "# build_negatives()"
   ]
  },
  {
   "cell_type": "code",
   "execution_count": 3,
   "metadata": {},
   "outputs": [
    {
     "name": "stdout",
     "output_type": "stream",
     "text": [
      "directory ../saved_files exists \n"
     ]
    }
   ],
   "source": [
    "#init params\n",
    "\n",
    "params: Parameters = Parameters(ALL_DESCRIPTORS_WIDTH, ALL_DESCRIPTORS_HEIGHT, ALL_DESCRIPTORS, BIG_SET_DIR)\n",
    "params.number_negative_examples = len(os.listdir(NEGATIVE_DIR))  # numarul exemplelor negative\n",
    "\n",
    "# e foarte mare 4.5\n",
    "params.threshold = 2 # toate ferestrele cu scorul > threshold si maxime locale devin detectii\n",
    "params.has_annotations = True\n",
    "\n",
    "params.use_hard_mining = False  # (optional)antrenare cu exemple puternic negative\n",
    "params.use_flip_images = True  # adauga imaginile cu fete oglindite\n",
    "\n",
    "if params.use_flip_images:\n",
    "    params.number_positive_examples = [v * 2 for v in params.number_positive_examples]\n",
    "\n",
    "all_facial_detector: FacialDetector = FacialDetector(params)"
   ]
  },
  {
   "cell_type": "code",
   "execution_count": 4,
   "metadata": {},
   "outputs": [
    {
     "name": "stdout",
     "output_type": "stream",
     "text": [
      "loaded positive example features\n"
     ]
    }
   ],
   "source": [
    "# Pasii 1+2+3. Incarcam exemplele pozitive (cropate) si exemple negative generate\n",
    "# verificam daca sunt deja existente\n",
    "\n",
    "positive_features = []\n",
    "\n",
    "for i in range(len(params.descriptors)):\n",
    "    positive_features_path = os.path.join(params.dir_save_files, 'all_positive_descriptors_' + \n",
    "                            str(params.hog_cell_widths[i]) + 'X' + str(params.hog_cell_heights[i]) + '_' +\n",
    "                            str(params.number_positive_examples[i]) + '.npy')\n",
    "\n",
    "    if os.path.exists(positive_features_path):\n",
    "        positive_features.append(np.load(positive_features_path))\n",
    "        print('loaded positive example features')\n",
    "    else:\n",
    "        print('building positive features')\n",
    "        positive_features.append(all_facial_detector.get_positive_descriptors(i))\n",
    "        np.save(positive_features_path, positive_features[i])\n",
    "        print('saved positive descriptors in %s' % positive_features_path)\n"
   ]
  },
  {
   "cell_type": "code",
   "execution_count": 5,
   "metadata": {},
   "outputs": [
    {
     "name": "stdout",
     "output_type": "stream",
     "text": [
      "loaded negative example features\n"
     ]
    }
   ],
   "source": [
    "# negative examples\n",
    "negative_features = []\n",
    "\n",
    "for i in range(len(params.descriptors)):\n",
    "    negative_features_path = os.path.join(params.dir_save_files, 'all_negative_descriptors_' + \n",
    "                            str(params.hog_cell_widths[i]) + 'X' + str(params.hog_cell_heights[i]) + '_' + \n",
    "                            str(params.number_negative_examples) + '.npy')\n",
    "    if os.path.exists(negative_features_path):\n",
    "        negative_features.append(np.load(negative_features_path))\n",
    "        print('loaded negative example features')\n",
    "    else:\n",
    "        print('building negative example features')\n",
    "        negative_features.append(all_facial_detector.get_negative_descriptors(i))\n",
    "        np.save(negative_features_path, negative_features[i])\n",
    "        print('saved descriptors in %s' % negative_features_path)"
   ]
  },
  {
   "cell_type": "code",
   "execution_count": 6,
   "metadata": {},
   "outputs": [
    {
     "name": "stdout",
     "output_type": "stream",
     "text": [
      "1044\n"
     ]
    }
   ],
   "source": [
    "# Pasul 4. Invatam clasificatorul liniar\n",
    "for i in range(len(positive_features)):\n",
    "    print(params.number_positive_examples[i])\n",
    "    training_examples = np.concatenate((np.squeeze(positive_features[i]), np.squeeze(negative_features[i])), axis=0)\n",
    "    train_labels = np.concatenate((np.ones(params.number_positive_examples[i]), np.zeros(negative_features[i].shape[0])))\n",
    "    all_facial_detector.train_classifier(training_examples, train_labels, i)"
   ]
  },
  {
   "cell_type": "code",
   "execution_count": 7,
   "metadata": {},
   "outputs": [
    {
     "name": "stdout",
     "output_type": "stream",
     "text": [
      "Procesam imaginea de testare 0/20..\n",
      "[] []\n",
      "Timpul de procesarea al imaginii de testare 0/20 este 0.928565 sec.\n",
      "Procesam imaginea de testare 1/20..\n",
      "[] []\n",
      "Timpul de procesarea al imaginii de testare 1/20 este 0.935725 sec.\n",
      "Procesam imaginea de testare 2/20..\n",
      "[] []\n",
      "Timpul de procesarea al imaginii de testare 2/20 este 0.916899 sec.\n",
      "Procesam imaginea de testare 3/20..\n",
      "[] []\n",
      "Timpul de procesarea al imaginii de testare 3/20 este 0.928036 sec.\n",
      "Procesam imaginea de testare 4/20..\n",
      "[] []\n",
      "Timpul de procesarea al imaginii de testare 4/20 este 0.895830 sec.\n",
      "Procesam imaginea de testare 5/20..\n",
      "[] []\n",
      "Timpul de procesarea al imaginii de testare 5/20 este 0.896701 sec.\n",
      "Procesam imaginea de testare 6/20..\n",
      "[] []\n",
      "Timpul de procesarea al imaginii de testare 6/20 este 0.942583 sec.\n",
      "Procesam imaginea de testare 7/20..\n",
      "[] []\n",
      "Timpul de procesarea al imaginii de testare 7/20 este 0.958834 sec.\n",
      "Procesam imaginea de testare 8/20..\n",
      "[] []\n",
      "Timpul de procesarea al imaginii de testare 8/20 este 0.945833 sec.\n",
      "Procesam imaginea de testare 9/20..\n",
      "[] []\n",
      "Timpul de procesarea al imaginii de testare 9/20 este 0.972633 sec.\n",
      "Procesam imaginea de testare 10/20..\n",
      "[] []\n",
      "Timpul de procesarea al imaginii de testare 10/20 este 0.896276 sec.\n",
      "Procesam imaginea de testare 11/20..\n",
      "[] []\n",
      "Timpul de procesarea al imaginii de testare 11/20 este 1.071502 sec.\n",
      "Procesam imaginea de testare 12/20..\n",
      "[] []\n",
      "Timpul de procesarea al imaginii de testare 12/20 este 1.033717 sec.\n",
      "Procesam imaginea de testare 13/20..\n",
      "[] []\n",
      "Timpul de procesarea al imaginii de testare 13/20 este 1.052990 sec.\n",
      "Procesam imaginea de testare 14/20..\n",
      "[] []\n",
      "Timpul de procesarea al imaginii de testare 14/20 este 0.969679 sec.\n",
      "Procesam imaginea de testare 15/20..\n",
      "[] []\n",
      "Timpul de procesarea al imaginii de testare 15/20 este 0.945005 sec.\n",
      "Procesam imaginea de testare 16/20..\n",
      "[] []\n",
      "Timpul de procesarea al imaginii de testare 16/20 este 1.043809 sec.\n",
      "Procesam imaginea de testare 17/20..\n",
      "[] []\n",
      "Timpul de procesarea al imaginii de testare 17/20 este 1.173665 sec.\n",
      "Procesam imaginea de testare 18/20..\n",
      "[] []\n",
      "Timpul de procesarea al imaginii de testare 18/20 este 0.914621 sec.\n",
      "Procesam imaginea de testare 19/20..\n",
      "[] []\n",
      "Timpul de procesarea al imaginii de testare 19/20 este 0.887051 sec.\n"
     ]
    },
    {
     "data": {
      "image/png": "[encoded data removed]",
      "text/plain": [
       "<Figure size 640x480 with 1 Axes>"
      ]
     },
     "metadata": {},
     "output_type": "display_data"
    }
   ],
   "source": [
    "detections, scores, file_names = all_facial_detector.run()\n",
    "\n",
    "# pt vizualizare\n",
    "if params.has_annotations:\n",
    "    all_facial_detector.eval_detections(detections, scores, file_names)\n",
    "    show_detections_with_ground_truth(detections, scores, file_names, params)\n",
    "else:\n",
    "    show_detections_without_ground_truth(detections, scores, file_names, params)"
   ]
  }
 ],
 "metadata": {
  "kernelspec": {
   "display_name": "Python 3",
   "language": "python",
   "name": "python3"
  },
  "language_info": {
   "codemirror_mode": {
    "name": "ipython",
    "version": 3
   },
   "file_extension": ".py",
   "mimetype": "text/x-python",
   "name": "python",
   "nbconvert_exporter": "python",
   "pygments_lexer": "ipython3",
   "version": "3.10.12"
  }
 },
 "nbformat": 4,
 "nbformat_minor": 2
}
