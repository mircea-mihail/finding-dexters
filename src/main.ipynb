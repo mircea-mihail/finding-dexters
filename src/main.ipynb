{
 "cells": [
  {
   "cell_type": "code",
   "execution_count": 1,
   "metadata": {},
   "outputs": [],
   "source": [
    "import numpy as np\n",
    "import matplotlib.pyplot as plt\n",
    "import os\n",
    "import pandas as pd\n",
    "import cv2 as cv\n",
    "import random\n",
    "import time\n",
    "import shutil\n",
    "\n",
    "from constants import *\n",
    "from visualisation import *\n",
    "from character_classes import *\n",
    "from build_dataset import *\n",
    "from FacialDetector import *"
   ]
  },
  {
   "cell_type": "code",
   "execution_count": 1,
   "metadata": {},
   "outputs": [],
   "source": [
    "# print_square_info()\n",
    "# get_avg_variance()\n",
    "# build_all_square_positives()\n",
    "\n",
    "# build_negatives()"
   ]
  },
  {
   "cell_type": "code",
   "execution_count": 2,
   "metadata": {},
   "outputs": [
    {
     "name": "stdout",
     "output_type": "stream",
     "text": [
      "directory ../saved_files exists \n"
     ]
    }
   ],
   "source": [
    "#init params\n",
    "\n",
    "params: Parameters = Parameters(ALL_DESCRIPTORS_WIDTH, ALL_DESCRIPTORS_HEIGHT, ALL_DESCRIPTORS, BIG_SET_DIR)\n",
    "params.number_negative_examples = len(os.listdir(NEGATIVE_DIR))  # numarul exemplelor negative\n",
    "\n",
    "# e foarte mare 4.5\n",
    "params.threshold = 2 # toate ferestrele cu scorul > threshold si maxime locale devin detectii\n",
    "params.has_annotations = True\n",
    "\n",
    "params.use_hard_mining = False  # (optional)antrenare cu exemple puternic negative\n",
    "params.use_flip_images = True  # adauga imaginile cu fete oglindite\n",
    "\n",
    "if params.use_flip_images:\n",
    "    params.number_positive_examples = [v * 2 for v in params.number_positive_examples]\n",
    "\n",
    "all_facial_detector: FacialDetector = FacialDetector(params)"
   ]
  },
  {
   "cell_type": "code",
   "execution_count": 5,
   "metadata": {},
   "outputs": [
    {
     "name": "stdout",
     "output_type": "stream",
     "text": [
      "loaded positive example features\n",
      "loaded positive example features\n",
      "loaded positive example features\n",
      "loaded positive example features\n",
      "loaded positive example features\n",
      "loaded positive example features\n",
      "[[0.00969496 0.         0.         ... 0.         0.         0.        ]\n",
      " [0.32436963 0.         0.09999132 ... 0.         0.         0.12551261]\n",
      " [0.30137375 0.07672881 0.01484701 ... 0.00258436 0.         0.        ]\n",
      " ...\n",
      " [0.0096157  0.         0.00906577 ... 0.23504969 0.         0.2529161 ]\n",
      " [0.38050723 0.         0.         ... 0.         0.         0.        ]\n",
      " [0.31350747 0.         0.16574821 ... 0.         0.232222   0.24504922]]\n",
      "[[0.27106778 0.0715798  0.27106778 ... 0.08817608 0.06812674 0.24006169]\n",
      " [0.30726676 0.27445384 0.04702326 ... 0.24666678 0.30044789 0.        ]\n",
      " [0.00705488 0.00315504 0.00399084 ... 0.32027017 0.26763573 0.15771091]\n",
      " ...\n",
      " [0.25004582 0.02621253 0.13367997 ... 0.01207897 0.         0.00596538]\n",
      " [0.08880134 0.         0.04818553 ... 0.01192963 0.02266979 0.12182744]\n",
      " [0.19538064 0.04351682 0.0074326  ... 0.         0.01187903 0.        ]]\n",
      "[[0.23910167 0.0799027  0.09979925 ... 0.12035685 0.33614934 0.19195195]\n",
      " [0.25351649 0.14078933 0.18491081 ... 0.12860719 0.23266978 0.01032135]\n",
      " [0.00797124 0.25358068 0.31615277 ... 0.07604408 0.10927123 0.00678763]\n",
      " ...\n",
      " [0.20611935 0.04452897 0.03125639 ... 0.00552384 0.00232857 0.00833533]\n",
      " [0.07759554 0.0510264  0.00736091 ... 0.04932047 0.01953887 0.01234127]\n",
      " [0.0859768  0.02671033 0.18055263 ... 0.26696134 0.16275534 0.08737777]]\n",
      "[[0.0303886  0.01802841 0.02194709 ... 0.31847648 0.0096666  0.11926591]\n",
      " [0.0730825  0.11873434 0.30627662 ... 0.01247896 0.00394619 0.        ]\n",
      " [0.05534288 0.         0.         ... 0.20400668 0.10153696 0.00822675]\n",
      " ...\n",
      " [0.2676987  0.22882624 0.25304621 ... 0.00631507 0.0013226  0.        ]\n",
      " [0.01148232 0.00223263 0.06398711 ... 0.         0.03526225 0.2329215 ]\n",
      " [0.28435231 0.01451713 0.00981344 ... 0.00044081 0.00112385 0.0698543 ]]\n",
      "[[0.3658122  0.17829664 0.3658122  ... 0.00157807 0.00249514 0.06862775]\n",
      " [0.00719524 0.00113605 0.07590782 ... 0.23654454 0.26610919 0.16959728]\n",
      " [0.24671543 0.00505402 0.00308497 ... 0.00262253 0.00276439 0.        ]\n",
      " ...\n",
      " [0.27780879 0.01654899 0.27780879 ... 0.19419167 0.         0.3028029 ]\n",
      " [0.29856687 0.1112611  0.29856687 ... 0.01358293 0.01150665 0.05497407]\n",
      " [0.20839057 0.29383189 0.28977874 ... 0.05729973 0.00540126 0.12761964]]\n",
      "[[0.2405497  0.09363401 0.32180692 ... 0.29700538 0.01390464 0.00936005]\n",
      " [0.04695324 0.0131811  0.14026503 ... 0.21050661 0.15889097 0.04089418]\n",
      " [0.01573672 0.00399491 0.18894497 ... 0.00116479 0.0018417  0.        ]\n",
      " ...\n",
      " [0.10490583 0.07233643 0.18473081 ... 0.00240796 0.02056049 0.00134609]\n",
      " [0.14527587 0.25702272 0.22699809 ... 0.01382758 0.         0.        ]\n",
      " [0.24490254 0.08966861 0.13328489 ... 0.00579432 0.00458081 0.        ]]\n"
     ]
    }
   ],
   "source": [
    "# Pasii 1+2+3. Incarcam exemplele pozitive (cropate) si exemple negative generate\n",
    "# verificam daca sunt deja existente\n",
    "\n",
    "positive_features = []\n",
    "\n",
    "for i in range(len(params.descriptors)):\n",
    "    positive_features_path = os.path.join(params.dir_save_files, 'all_positive_descriptors_' + \n",
    "                            str(params.hog_cell_widths[i]) + 'X' + str(params.hog_cell_heights[i]) + '_' +\n",
    "                            str(params.number_positive_examples) + '.npy')\n",
    "\n",
    "    if os.path.exists(positive_features_path):\n",
    "        positive_features.append(np.load(positive_features_path))\n",
    "        print('loaded positive example features')\n",
    "    else:\n",
    "        print('building positive features')\n",
    "        positive_features.append(all_facial_detector.get_positive_descriptors(i))\n",
    "        np.save(positive_features_path, positive_features[i])\n",
    "        print('saved positive descriptors in %s' % positive_features_path)\n"
   ]
  },
  {
   "cell_type": "code",
   "execution_count": 5,
   "metadata": {},
   "outputs": [
    {
     "name": "stdout",
     "output_type": "stream",
     "text": [
      "loaded negative example features\n"
     ]
    }
   ],
   "source": [
    "# negative examples\n",
    "negative_features_path = os.path.join(params.dir_save_files, 'negative_descriptors_' + \n",
    "                        str(params.hog_cell_width) + 'X' + str(params.hog_cell_height) + '_' + \n",
    "                        str(params.number_negative_examples) + '.npy')\n",
    "if os.path.exists(negative_features_path):\n",
    "    negative_features = np.load(negative_features_path)\n",
    "    print('loaded negative example features')\n",
    "else:\n",
    "    print('building negative example features')\n",
    "    negative_features = facial_detector_6x6.get_negative_descriptors()\n",
    "    np.save(negative_features_path, negative_features)\n",
    "    print('saved descriptors in %s' % negative_features_path)"
   ]
  },
  {
   "cell_type": "code",
   "execution_count": 6,
   "metadata": {},
   "outputs": [],
   "source": [
    "# Pasul 4. Invatam clasificatorul liniar\n",
    "training_examples = np.concatenate((np.squeeze(positive_features), np.squeeze(negative_features)), axis=0)\n",
    "train_labels = np.concatenate((np.ones(params.number_positive_examples), np.zeros(negative_features.shape[0])))\n",
    "facial_detector_6x6.train_classifier(training_examples, train_labels)"
   ]
  },
  {
   "cell_type": "code",
   "execution_count": 7,
   "metadata": {},
   "outputs": [
    {
     "name": "stdout",
     "output_type": "stream",
     "text": [
      "Procesam imaginea de testare 0/20..\n",
      "[] []\n",
      "Timpul de procesarea al imaginii de testare 0/20 este 0.309557 sec.\n",
      "Procesam imaginea de testare 1/20..\n",
      "[] []\n",
      "Timpul de procesarea al imaginii de testare 1/20 este 0.315609 sec.\n",
      "Procesam imaginea de testare 2/20..\n",
      "[] []\n",
      "Timpul de procesarea al imaginii de testare 2/20 este 0.317115 sec.\n",
      "Procesam imaginea de testare 3/20..\n",
      "[] []\n",
      "Timpul de procesarea al imaginii de testare 3/20 este 0.304064 sec.\n",
      "Procesam imaginea de testare 4/20..\n",
      "[] []\n",
      "Timpul de procesarea al imaginii de testare 4/20 este 0.310498 sec.\n",
      "Procesam imaginea de testare 5/20..\n",
      "[] []\n",
      "Timpul de procesarea al imaginii de testare 5/20 este 0.303999 sec.\n",
      "Procesam imaginea de testare 6/20..\n",
      "[] []\n",
      "Timpul de procesarea al imaginii de testare 6/20 este 0.310777 sec.\n",
      "Procesam imaginea de testare 7/20..\n",
      "[] []\n",
      "Timpul de procesarea al imaginii de testare 7/20 este 0.309035 sec.\n",
      "Procesam imaginea de testare 8/20..\n",
      "[] []\n",
      "Timpul de procesarea al imaginii de testare 8/20 este 0.307847 sec.\n",
      "Procesam imaginea de testare 9/20..\n",
      "[] []\n",
      "Timpul de procesarea al imaginii de testare 9/20 este 0.313854 sec.\n",
      "Procesam imaginea de testare 10/20..\n",
      "[] []\n",
      "Timpul de procesarea al imaginii de testare 10/20 este 0.303203 sec.\n",
      "Procesam imaginea de testare 11/20..\n",
      "[] []\n",
      "Timpul de procesarea al imaginii de testare 11/20 este 0.313851 sec.\n",
      "Procesam imaginea de testare 12/20..\n",
      "[] []\n",
      "Timpul de procesarea al imaginii de testare 12/20 este 0.317365 sec.\n",
      "Procesam imaginea de testare 13/20..\n",
      "[] []\n",
      "Timpul de procesarea al imaginii de testare 13/20 este 0.327804 sec.\n",
      "Procesam imaginea de testare 14/20..\n",
      "[] []\n",
      "Timpul de procesarea al imaginii de testare 14/20 este 0.314954 sec.\n",
      "Procesam imaginea de testare 15/20..\n",
      "[] []\n",
      "Timpul de procesarea al imaginii de testare 15/20 este 0.313989 sec.\n",
      "Procesam imaginea de testare 16/20..\n",
      "[] []\n",
      "Timpul de procesarea al imaginii de testare 16/20 este 0.342409 sec.\n",
      "Procesam imaginea de testare 17/20..\n",
      "[] []\n",
      "Timpul de procesarea al imaginii de testare 17/20 este 0.319025 sec.\n",
      "Procesam imaginea de testare 18/20..\n",
      "Timpul de procesarea al imaginii de testare 18/20 este 0.302090 sec.\n",
      "Procesam imaginea de testare 19/20..\n",
      "[] []\n",
      "Timpul de procesarea al imaginii de testare 19/20 este 0.302423 sec.\n"
     ]
    },
    {
     "data": {
      "image/png": "[encoded data removed]",
      "text/plain": [
       "<Figure size 640x480 with 1 Axes>"
      ]
     },
     "metadata": {},
     "output_type": "display_data"
    }
   ],
   "source": [
    "\n",
    "detections, scores, file_names = facial_detector_6x6.run()\n",
    "\n",
    "# pt vizualizare\n",
    "if params.has_annotations:\n",
    "    facial_detector_6x6.eval_detections(detections, scores, file_names)\n",
    "    show_detections_with_ground_truth(detections, scores, file_names, params)\n",
    "else:\n",
    "    show_detections_without_ground_truth(detections, scores, file_names, params)"
   ]
  }
 ],
 "metadata": {
  "kernelspec": {
   "display_name": "Python 3",
   "language": "python",
   "name": "python3"
  },
  "language_info": {
   "codemirror_mode": {
    "name": "ipython",
    "version": 3
   },
   "file_extension": ".py",
   "mimetype": "text/x-python",
   "name": "python",
   "nbconvert_exporter": "python",
   "pygments_lexer": "ipython3",
   "version": "3.10.12"
  }
 },
 "nbformat": 4,
 "nbformat_minor": 2
}
